{
 "cells": [
  {
   "cell_type": "code",
   "execution_count": 3,
   "metadata": {
    "collapsed": true
   },
   "outputs": [],
   "source": [
    "import numpy as np\n",
    "# 创建简单的列表\n",
    "a = [1, 2, 3, 4]\n",
    "# 将列表转换为数组\n",
    "b = np.array(a)"
   ]
  },
  {
   "cell_type": "code",
   "execution_count": 4,
   "metadata": {},
   "outputs": [
    {
     "data": {
      "text/plain": [
       "4"
      ]
     },
     "execution_count": 4,
     "metadata": {},
     "output_type": "execute_result"
    }
   ],
   "source": [
    "b.size"
   ]
  },
  {
   "cell_type": "code",
   "execution_count": 6,
   "metadata": {},
   "outputs": [
    {
     "data": {
      "text/plain": [
       "(4,)"
      ]
     },
     "execution_count": 6,
     "metadata": {},
     "output_type": "execute_result"
    }
   ],
   "source": [
    "b.shape"
   ]
  },
  {
   "cell_type": "code",
   "execution_count": 5,
   "metadata": {},
   "outputs": [
    {
     "data": {
      "text/plain": [
       "1"
      ]
     },
     "execution_count": 5,
     "metadata": {},
     "output_type": "execute_result"
    }
   ],
   "source": [
    "b.ndim"
   ]
  },
  {
   "cell_type": "code",
   "execution_count": 7,
   "metadata": {},
   "outputs": [
    {
     "data": {
      "text/plain": [
       "1"
      ]
     },
     "execution_count": 7,
     "metadata": {},
     "output_type": "execute_result"
    }
   ],
   "source": [
    "b.ndim"
   ]
  },
  {
   "cell_type": "code",
   "execution_count": 8,
   "metadata": {},
   "outputs": [
    {
     "data": {
      "text/plain": [
       "dtype('int32')"
      ]
     },
     "execution_count": 8,
     "metadata": {},
     "output_type": "execute_result"
    }
   ],
   "source": [
    "b.dtype"
   ]
  },
  {
   "cell_type": "code",
   "execution_count": 11,
   "metadata": {},
   "outputs": [],
   "source": [
    "array_one = np.ones([10, 10])"
   ]
  },
  {
   "cell_type": "code",
   "execution_count": 13,
   "metadata": {},
   "outputs": [],
   "source": [
    "array_zero = np.zeros([10, 10])"
   ]
  },
  {
   "cell_type": "code",
   "execution_count": 14,
   "metadata": {},
   "outputs": [
    {
     "data": {
      "text/plain": [
       "array([[ 0.01240586,  0.44328226,  0.09768594,  0.75079356,  0.55878747,\n         0.97616115,  0.5020638 ,  0.20401104,  0.41683209,  0.45862572],\n       [ 0.51748642,  0.95596093,  0.42049882,  0.62917307,  0.40359322,\n         0.77764981,  0.99155398,  0.75078411,  0.61676435,  0.09081167],\n       [ 0.64584664,  0.11926398,  0.80500538,  0.96312115,  0.74371221,\n         0.10625502,  0.21586638,  0.89553959,  0.44231194,  0.01680601],\n       [ 0.30826261,  0.24741877,  0.29409855,  0.30383142,  0.66410442,\n         0.01908584,  0.65075492,  0.34019716,  0.19305248,  0.84576161],\n       [ 0.42543059,  0.5935522 ,  0.31988689,  0.31654184,  0.26571332,\n         0.50020633,  0.14996915,  0.80997073,  0.5386504 ,  0.11557889],\n       [ 0.34022142,  0.91081713,  0.3660851 ,  0.53767171,  0.14981551,\n         0.18872909,  0.03943511,  0.9466499 ,  0.38786855,  0.92933147],\n       [ 0.97489469,  0.56481739,  0.98599655,  0.25025588,  0.50963121,\n         0.34088683,  0.25960017,  0.39423197,  0.1057164 ,  0.80015206],\n       [ 0.7949719 ,  0.85637497,  0.53925327,  0.21437545,  0.5617882 ,\n         0.9682126 ,  0.34041209,  0.51178415,  0.9999678 ,  0.20507799],\n       [ 0.76057008,  0.84243723,  0.59185398,  0.85916991,  0.97655007,\n         0.69065936,  0.19421512,  0.87805519,  0.88382598,  0.57558954],\n       [ 0.86418347,  0.02826539,  0.9162715 ,  0.91706199,  0.90925833,\n         0.12495185,  0.64194929,  0.74145318,  0.84785038,  0.13405938]])"
      ]
     },
     "execution_count": 14,
     "metadata": {},
     "output_type": "execute_result"
    }
   ],
   "source": [
    "np.random.rand(10, 10)"
   ]
  },
  {
   "cell_type": "code",
   "execution_count": 16,
   "metadata": {},
   "outputs": [
    {
     "data": {
      "text/plain": [
       "55.56281109869696"
      ]
     },
     "execution_count": 16,
     "metadata": {},
     "output_type": "execute_result"
    }
   ],
   "source": [
    "np.random.uniform(0, 100)"
   ]
  },
  {
   "cell_type": "code",
   "execution_count": 18,
   "metadata": {},
   "outputs": [
    {
     "data": {
      "text/plain": [
       "67"
      ]
     },
     "execution_count": 18,
     "metadata": {},
     "output_type": "execute_result"
    }
   ],
   "source": [
    "np.random.randint(0, 100)"
   ]
  },
  {
   "cell_type": "code",
   "execution_count": 20,
   "metadata": {},
   "outputs": [
    {
     "data": {
      "text/plain": [
       "array([[ 1.70029161,  1.7109314 ,  1.67621405],\n       [ 1.7794016 ,  1.69620397,  1.76238211]])"
      ]
     },
     "execution_count": 20,
     "metadata": {},
     "output_type": "execute_result"
    }
   ],
   "source": [
    "np.random.normal(1.75, 0.1, (2, 3))"
   ]
  },
  {
   "cell_type": "code",
   "execution_count": 22,
   "metadata": {},
   "outputs": [
    {
     "name": "stdout",
     "output_type": "stream",
     "text": [
      "[[ 1.82763073  1.79554911  1.64671333  1.83963655  1.7466017 ]\n [ 1.7485455   1.68281227  1.80108616  1.76919296  1.77893335]\n [ 1.6726146   1.71386203  1.63498555  1.78792942  1.91573263]\n [ 1.75191745  1.72270713  1.81768576  1.686838    1.56433962]]\n[[ 1.80108616  1.76919296]\n [ 1.63498555  1.78792942]]\n"
     ]
    }
   ],
   "source": [
    "# 正态生成4行5列的二维数组\n",
    "arr = np.random.normal(1.75, 0.1, (4, 5))\n",
    "print(arr)\n",
    "# 截取第1至2行的第2至3列(从第0行算起)\n",
    "after_arr = arr[1:3, 2:4]\n",
    "print(after_arr)"
   ]
  },
  {
   "cell_type": "code",
   "execution_count": 27,
   "metadata": {},
   "outputs": [
    {
     "name": "stdout",
     "output_type": "stream",
     "text": [
      "reshape函数的使用!\n-->1行20列<--\n[ 1.  1.  1.  1.  1.  1.  1.  1.  1.  1.  1.  1.  1.  1.  1.  1.  1.  1.\n  1.  1.]\n-->4行5列<--\n[[ 1.  1.  1.  1.  1.]\n [ 1.  1.  1.  1.  1.]\n [ 1.  1.  1.  1.  1.]\n [ 1.  1.  1.  1.  1.]]\n"
     ]
    }
   ],
   "source": [
    "print(\"reshape函数的使用!\")\n",
    "one_20 = np.ones([20])\n",
    "print(\"-->1行20列<--\")\n",
    "print (one_20)\n",
    "\n",
    "one_4_5 = one_20.reshape([4, 5])\n",
    "print(\"-->4行5列<--\")\n",
    "print (one_4_5)"
   ]
  },
  {
   "cell_type": "code",
   "execution_count": 30,
   "metadata": {},
   "outputs": [
    {
     "data": {
      "text/plain": [
       "array([[False,  True],\n       [ True,  True],\n       [ True, False],\n       [ True,  True],\n       [False,  True]], dtype=bool)"
      ]
     },
     "execution_count": 30,
     "metadata": {},
     "output_type": "execute_result"
    }
   ],
   "source": [
    "\n",
    "import numpy as np\n",
    "stus_score = np.array([[80, 88], [82, 81], [84, 75], [86, 83], [75, 81]])\n",
    "stus_score > 80\n"
   ]
  },
  {
   "cell_type": "code",
   "execution_count": 31,
   "metadata": {},
   "outputs": [
    {
     "data": {
      "text/plain": [
       "array([[90, 90],\n       [90, 90],\n       [90,  0],\n       [90, 90],\n       [ 0, 90]])"
      ]
     },
     "execution_count": 31,
     "metadata": {},
     "output_type": "execute_result"
    }
   ],
   "source": [
    "import numpy as np\n",
    "stus_score = np.array([[80, 88], [82, 81], [84, 75], [86, 83], [75, 81]])\n",
    "np.where(stus_score < 80, 0, 90)"
   ]
  },
  {
   "cell_type": "code",
   "execution_count": 32,
   "metadata": {},
   "outputs": [
    {
     "name": "stdout",
     "output_type": "stream",
     "text": [
      "每一列的最大值为:\n[86 88]\n每一行的最大值为:\n[88 82 84 86 81]\n"
     ]
    }
   ],
   "source": [
    "stus_score = np.array([[80, 88], [82, 81], [84, 75], [86, 83], [75, 81]])\n",
    "# 求每一列的最大值(0表示列)\n",
    "print(\"每一列的最大值为:\")\n",
    "result = np.amax(stus_score, axis=0)\n",
    "print(result)\n",
    "\n",
    "print(\"每一行的最大值为:\")\n",
    "result = np.amax(stus_score, axis=1)\n",
    "print(result)\n"
   ]
  },
  {
   "cell_type": "code",
   "execution_count": 34,
   "metadata": {},
   "outputs": [
    {
     "name": "stdout",
     "output_type": "stream",
     "text": [
      "每一列的最小值为:\n[75 75]\n每一行的最小值为:\n[80 81 75 83 75]\n"
     ]
    }
   ],
   "source": [
    "stus_score = np.array([[80, 88], [82, 81], [84, 75], [86, 83], [75, 81]])\n",
    "# 求每一行的最小值(0表示列)\n",
    "print(\"每一列的最小值为:\")\n",
    "result = np.amin(stus_score, axis=0)\n",
    "print(result)\n",
    "\n",
    "# 求每一行的最小值(1表示行)\n",
    "print(\"每一行的最小值为:\")\n",
    "result = np.amin(stus_score, axis=1)\n",
    "print(result)"
   ]
  },
  {
   "cell_type": "code",
   "execution_count": 35,
   "metadata": {},
   "outputs": [
    {
     "name": "stdout",
     "output_type": "stream",
     "text": [
      "每一列的平均值:\n[ 81.4  81.6]\n每一行的平均值:\n[ 84.   81.5  79.5  84.5  78. ]\n"
     ]
    }
   ],
   "source": [
    "stus_score = np.array([[80, 88], [82, 81], [84, 75], [86, 83], [75, 81]])\n",
    "# 求每一行的平均值(0表示列)\n",
    "print(\"每一列的平均值:\")\n",
    "result = np.mean(stus_score, axis=0)\n",
    "print(result)\n",
    "\n",
    "# 求每一行的平均值(1表示行)\n",
    "print(\"每一行的平均值:\")\n",
    "result = np.mean(stus_score, axis=1)\n",
    "print(result)"
   ]
  },
  {
   "cell_type": "code",
   "execution_count": 36,
   "metadata": {},
   "outputs": [
    {
     "name": "stdout",
     "output_type": "stream",
     "text": [
      "每一列的方差:\n[ 3.77359245  4.1761226 ]\n每一行的方差:\n[ 4.   0.5  4.5  1.5  3. ]\n"
     ]
    }
   ],
   "source": [
    "stus_score = np.array([[80, 88], [82, 81], [84, 75], [86, 83], [75, 81]])\n",
    "# 求每一行的方差(0表示列)\n",
    "print(\"每一列的方差:\")\n",
    "result = np.std(stus_score, axis=0)\n",
    "print(result)\n",
    "\n",
    "# 求每一行的方差(1表示行)\n",
    "print(\"每一行的方差:\")\n",
    "result = np.std(stus_score, axis=1)\n",
    "print(result)"
   ]
  },
  {
   "cell_type": "code",
   "execution_count": 37,
   "metadata": {},
   "outputs": [
    {
     "name": "stdout",
     "output_type": "stream",
     "text": [
      "加分前:\n[[80 88]\n [82 81]\n [84 75]\n [86 83]\n [75 81]]\n加分后:\n[[85 88]\n [87 81]\n [89 75]\n [91 83]\n [80 81]]\n"
     ]
    }
   ],
   "source": [
    "stus_score = np.array([[80, 88], [82, 81], [84, 75], [86, 83], [75, 81]])\n",
    "print(\"加分前:\")\n",
    "print(stus_score)\n",
    "\n",
    "# 为所有平时成绩都加5分\n",
    "stus_score[:, 0] = stus_score[:, 0]+5\n",
    "print(\"加分后:\")\n",
    "print(stus_score)\n"
   ]
  },
  {
   "cell_type": "code",
   "execution_count": null,
   "metadata": {},
   "outputs": [],
   "source": []
  }
 ],
 "metadata": {
  "kernelspec": {
   "display_name": "Python 2",
   "language": "python",
   "name": "python2"
  },
  "language_info": {
   "codemirror_mode": {
    "name": "ipython",
    "version": 2
   },
   "file_extension": ".py",
   "mimetype": "text/x-python",
   "name": "python",
   "nbconvert_exporter": "python",
   "pygments_lexer": "ipython2",
   "version": "2.7.6"
  }
 },
 "nbformat": 4,
 "nbformat_minor": 0
}
