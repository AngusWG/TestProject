{
 "cells": [
  {
   "cell_type": "code",
   "execution_count": null,
   "metadata": {},
   "outputs": [],
   "source": [
    "import os\n",
    "import re\n",
    "import json\n",
    "import requests\n",
    "from lxml import etree\n",
    "\n",
    "header = {\"User-Agent\": \"Mozilla/5.0 (Windows NT 10.0; WOW64) AppleWebKit/537.36 (KHTML, like Gecko) Chrome/53.0.2785.104 Safari/537.36 Core/1.53.4882.400 QQBrowser/9.7.13059.400\",\n",
    "          \"Cookie\": 'bid=oVWkXcIFNU0; flag=\"ok\"; dbcl2=\"52357979:CEk+opmv16U\"; ck=NHNN; _gat=1; _ga=GA1.2.247535365.1514267287; _gid=GA1.2.141432331.1529901250'}\n",
    "\n",
    "\n",
    "\n",
    "req1 = requests.get('https://douban.fm/j/v2/redheart/basic', headers=header)\n",
    "body = json.loads(req1.text)['songs']\n",
    "\n",
    "# 豆瓣获得所有歌\n",
    "songs = {}\n",
    "for canonical_id in body:\n",
    "    canonical_id = canonical_id['canonical_id']\n",
    "    song = {}\n",
    "    song['canonical_id'] = canonical_id\n",
    "    req1 = requests.get('https://douban.fm/j/v2/song/' + canonical_id, header)\n",
    "    song_body = json.loads(req1.text)\n",
    "    song['title'] = song_body['title']\n",
    "    song['singers'] = [i['name'] for i in song_body['singers']]\n",
    "    print('已获得{}歌的数据'.format(song['title']))\n",
    "    songs[canonical_id] = song\n"
   ]
  },
  {
   "cell_type": "code",
   "execution_count": null,
   "metadata": {},
   "outputs": [],
   "source": [
    "# 网易云 搜索歌曲\n",
    "for song in songs:\n",
    "    url ='http://music.163.com/weapi/cloudsearch/get/web?csrf_token=f692ceb74c590cd19f1495ac5108b1d2'"
   ]
  }
 ],
 "metadata": {
  "kernelspec": {
   "display_name": "Python 2",
   "language": "python",
   "name": "python2"
  },
  "language_info": {
   "codemirror_mode": {
    "name": "ipython",
    "version": 2
   },
   "file_extension": ".py",
   "mimetype": "text/x-python",
   "name": "python",
   "nbconvert_exporter": "python",
   "pygments_lexer": "ipython2",
   "version": "2.7.6"
  }
 },
 "nbformat": 4,
 "nbformat_minor": 0
}
